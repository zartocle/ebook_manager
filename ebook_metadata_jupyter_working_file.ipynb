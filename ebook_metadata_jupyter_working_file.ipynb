{
 "cells": [
  {
   "cell_type": "markdown",
   "metadata": {},
   "source": [
    "### *Ebook metadata manager*\n"
   ]
  },
  {
   "cell_type": "code",
   "execution_count": null,
   "metadata": {},
   "outputs": [],
   "source": [
    "def get_epub_metadata( file_path:str ) -> dict :\n",
    "    # An .epub file is a zip-encoded file containing a META-INF directory, which contains a file named container.xml, which points to another file usually named Content.opf, which indexes all the other files which make up the e-book \n",
    "    # (summary based on http://www.jedisaber.com/eBooks/Introduction.shtml; full spec at https://github.com/w3c/epub-specs/?tab=readme-ov-file )\n",
    "    ''' Take a file path as input and returns epub metadata in a dictionary.\n",
    "    Does NOT check whether the file is actually an epub'''\n",
    "    import epub_meta\n",
    "    metadata = epub_meta.get_epub_metadata( file_path )\n",
    "\n",
    "    # Read built-in properties\n",
    "    md_dict = { 'type' : 'epub',\n",
    "                'author': ('unknown_author' if metadata['authors'][0].strip() == '' else ', '.join(metadata['authors']) ),\n",
    "                'title': ('unknown_title' if metadata['title'].strip() == '' else metadata['title']),\n",
    "                'subject': metadata['subject'],\n",
    "                'producer': metadata['publisher']\n",
    "                }\n",
    "    return md_dict"
   ]
  },
  {
   "cell_type": "code",
   "execution_count": 23,
   "metadata": {},
   "outputs": [],
   "source": [
    "def get_pdf_metadata( file_path:str ) -> dict : \n",
    "    ''' Take a PDF file path, extract file metadata in a dictionary and log work to a file.\n",
    "    Does NOT check whether the file is actually a PDF'''\n",
    "    from spire.pdf import PdfDocument\n",
    "    # Code and method below sourced from: https://medium.com/@alexaae9/add-read-or-remove-pdf-metadata-using-python-81ac929fa5fc\n",
    "    \n",
    "    # Create a PdfDocument object\n",
    "    doc = PdfDocument()\n",
    "\n",
    "    # Load a PDF file\n",
    "    doc.LoadFromFile( file_path )\n",
    "\n",
    "    # Get the document information\n",
    "    information = doc.DocumentInformation\n",
    "\n",
    "    # Read built-in properties\n",
    "    md_dict = { 'type' : 'pdf',\n",
    "                'author': ('unknown_author' if information.Author.strip() == '' else information.Author),\n",
    "                'title': ('unknown_title' if information.Title.strip() == '' else information.Title),\n",
    "                'subject': information.Subject,\n",
    "                'producer': information.Producer\n",
    "                }\n",
    "\n",
    "    # Close document\n",
    "    doc.Close()\n",
    "\n",
    "    return md_dict"
   ]
  },
  {
   "cell_type": "code",
   "execution_count": null,
   "metadata": {},
   "outputs": [],
   "source": [
    "def get_djvu_metadata( file_path:str ) -> dict :\n",
    "    # Run `sudo apt install libdjvulibre-dev pkg-config`, then pip install djvulibre-python\n",
    "    \"\"\"Estrae i metadati da un file .djvu.\"\"\"\n",
    "    from djvu.decode import Context\n",
    "    context = Context()  # Crea un contesto DjVu\n",
    "    \n",
    "    try:\n",
    "        # Register the document in the context by passing it the file path\n",
    "        document = context.new_document( file_path )\n",
    "        if document is None:\n",
    "            logging.info(\"File is not a valid DJVU document\")\n",
    "            return 0\n",
    "            \n",
    "            # get metadata\n",
    "            metadata = document.metadata\n",
    "            if metadata:\n",
    "                for key, value in metadata.items():\n",
    "                    logging.info(f\"{key}: {value}\")\n",
    "            else:\n",
    "                logging.info(\"No metadata found in file.\")\n",
    "    except Exception as e:\n",
    "        logging.info(f\"Error during file processing: {str(e)}\")\n",
    "        return 1"
   ]
  },
  {
   "cell_type": "code",
   "execution_count": null,
   "metadata": {},
   "outputs": [],
   "source": [
    "def get_mobi_metadata( file_path:str ) -> dict :\n",
    "    \"\"\" Extracts metadata from a MOBI file \"\"\"\n",
    "    import mobi\n",
    "    import os\n",
    "    import shutil\n",
    "    import xml.etree.ElementTree as ET\n",
    "    try:\n",
    "        # Unwrap the MOBI file in a temp directory\n",
    "        temp_dir, file_path = mobi.extract( file_path )\n",
    "\n",
    "        # Let's point at the OPF file containing metadata (name might vary)\n",
    "        mobi7_opf_path = \"/mobi7/content.opf\"\n",
    "        mobi8_opf_path = \"/mobi8/OEBPS/content.opf\"\n",
    "        opf_file = \"\"\n",
    "        if os.path.isfile(temp_dir + mobi7_opf_path ):\n",
    "            opf_file = temp_dir + mobi7_opf_path\n",
    "            pass\n",
    "        elif os.path.isfile(temp_dir + mobi8_opf_path):\n",
    "            opf_file = temp_dir + mobi8_opf_path\n",
    "            pass\n",
    "        else:\n",
    "            logging.info(f\"Metadata OPF file not found. Check the content of temp directory {temp_dir}\")\n",
    "            return 1\n",
    "        \n",
    "        if opf_file != '':\n",
    "            # Read the content of the OPF file\n",
    "            with open(opf_file, \"r\", encoding=\"utf-8\") as f:\n",
    "                opf_content = f.read()\n",
    "\n",
    "            # Parses the metadata XML as \n",
    "            parsed_xml_opf = ET.fromstring(opf_content)\n",
    "\n",
    "            book_metadata = {'type':'mobi'}\n",
    "            for child in parsed_xml_opf:\n",
    "                for grandchild in child:\n",
    "                    # print(grandchild.tag,grandchild.attrib,grandchild.text)\n",
    "                    if 'creator' in grandchild.tag:\n",
    "                        book_metadata['author'] = grandchild.text\n",
    "                    if 'publisher' in grandchild.tag:\n",
    "                        book_metadata['publisher'] = grandchild.text\n",
    "                    if 'title' in grandchild.tag:\n",
    "                        book_metadata['title'] = grandchild.text\n",
    "\n",
    "        shutil.rmtree( temp_dir ) # Remove temp directory and its contents\n",
    "\n",
    "        return book_metadata\n",
    "\n",
    "    except Exception as e:\n",
    "        logging.info(f\"Error during metadata extraction: {str(e)}\")\n",
    "        return None\n"
   ]
  },
  {
   "cell_type": "code",
   "execution_count": null,
   "metadata": {},
   "outputs": [],
   "source": [
    "# ORCHESTRATION:\n",
    "import os       \n",
    "import subprocess\n",
    "import logging\n",
    "logging.basicConfig(filename='ebook_handler.log',\n",
    "                    filemode=\"a+\",\n",
    "                    format='%(asctime)s %(funcName)s %(levelname)s %(message)s',        \n",
    "                    level=logging.DEBUG\n",
    "                    )\n",
    "\n",
    "def bulk_rename_files( work_dir_path ):\n",
    "    # os.chdir('work_dir_path')\n",
    "    logging.info(f\"Working directory is { work_dir_path }\")\n",
    "    dir_list = os.listdir( work_dir_path )\n",
    "\n",
    "    djvu_count = 0\n",
    "    mobi_count = 0\n",
    "    for elem in dir_list:\n",
    "        fnameComplete = work_dir_path + elem\n",
    "        sp_result = subprocess.run(['file', '--mime-type', fnameComplete ], capture_output=True )\n",
    "        ftype_output = sp_result.stdout.decode()\n",
    "        if 'PDF'.lower() in ftype_output.lower():\n",
    "            file_mdata = get_pdf_metadata( fnameComplete )\n",
    "            new_filename_staging = f'{file_mdata['author']} - {file_mdata['title'].replace('/',' ')}'[:120]\n",
    "            new_filename = f'{new_filename_staging}.{file_mdata['type']}'\n",
    "            os.rename(fnameComplete, work_dir_path + new_filename)\n",
    "\n",
    "        elif 'EPUB'.lower() in ftype_output.lower():\n",
    "            file_mdata = get_epub_metadata( fnameComplete )\n",
    "            new_filename_staging = f'{file_mdata['author']} - {file_mdata['title'].replace('/','-')}'[:120]\n",
    "            new_filename = f'{new_filename_staging}.{file_mdata['type']}'\n",
    "            os.rename(fnameComplete, work_dir_path + new_filename)\n",
    "\n",
    "        elif 'DJVU'.lower() in ftype_output.lower():\n",
    "            if get_djvu_metadata( fnameComplete ) == 1:\n",
    "                file_mdata = {'type':'djvu'}\n",
    "                djvu_count += 1\n",
    "                new_filename = f'djvu_without_name_{str(djvu_count).zfill(2)}.djvu'\n",
    "                os.rename( work_dir_path + elem, work_dir_path + new_filename )\n",
    "            else:\n",
    "                # Soluzione tremenda, che uso per mancanza di sufficienti file DJVU con cui testare la logica\n",
    "                logging.warning('#TODO: Missing logic to consume DJVU metadata. File {elem} not parsed')\n",
    "\n",
    "        elif 'ZIP'.lower() in ftype_output.lower():\n",
    "            file_mdata = {'type':'zip'}\n",
    "            os.rename( work_dir_path + elem, work_dir_path + elem + '.' + file_mdata['type'] )\n",
    "\n",
    "        elif 'RAR'.lower() in ftype_output.lower():\n",
    "            file_mdata = {'type':'rar'}\n",
    "            os.rename( work_dir_path + elem, work_dir_path + elem + '.' + file_mdata['type'] )\n",
    "\n",
    "        elif 'MOBI'.lower() in ftype_output.lower():\n",
    "            if get_mobi_metadata (fnameComplete) == 1:\n",
    "                mobi_count += 1\n",
    "                new_filename = f'mobi_without_name_{str(mobi_count).zfill(2)}.mobi'\n",
    "                os.rename( work_dir_path + elem, work_dir_path + new_filename )\n",
    "            else:\n",
    "                file_mdata = get_mobi_metadata( fnameComplete )\n",
    "                new_filename_staging = f'{file_mdata['author']} - {file_mdata['title'].replace('/',' ')}'[:120]\n",
    "                new_filename = f'{new_filename_staging}.{file_mdata['type']}'\n",
    "                os.rename(fnameComplete, work_dir_path + new_filename)\n",
    "        \n",
    "        logging.info(f'{file_mdata['type'].upper()} file {elem} renamed to {new_filename} ')\n",
    "        \n",
    "    logging.info('End of script.')\n",
    "    \n",
    "    return 0"
   ]
  },
  {
   "cell_type": "code",
   "execution_count": 27,
   "metadata": {},
   "outputs": [],
   "source": [
    "ebooks_path = '/home/ale/git/test_ebooks/'"
   ]
  },
  {
   "cell_type": "code",
   "execution_count": 28,
   "metadata": {},
   "outputs": [
    {
     "data": {
      "text/plain": [
       "0"
      ]
     },
     "execution_count": 28,
     "metadata": {},
     "output_type": "execute_result"
    }
   ],
   "source": [
    "\n",
    "bulk_rename_files( ebooks_path )"
   ]
  },
  {
   "cell_type": "code",
   "execution_count": 12,
   "metadata": {},
   "outputs": [],
   "source": [
    "# 0a0e99cb29ba47990796f5d3eecbdac7\n",
    "# 07900fe11301380d5f7a172ce2564a2e"
   ]
  },
  {
   "cell_type": "code",
   "execution_count": 42,
   "metadata": {},
   "outputs": [
    {
     "name": "stdout",
     "output_type": "stream",
     "text": [
      "/home/ale/git/main/epub_processing/ebook_handler.log\n"
     ]
    }
   ],
   "source": [
    "import tkinter as tk\n",
    "from tkinter import filedialog\n",
    "\n",
    "# create a root window\n",
    "root = tk.Tk()\n",
    "root.withdraw()\n",
    "\n",
    "# open the file dialog box\n",
    "file_path = filedialog.askopenfilename()\n",
    "\n",
    "# print the selected file path\n",
    "print(file_path)"
   ]
  },
  {
   "cell_type": "code",
   "execution_count": null,
   "metadata": {},
   "outputs": [
    {
     "name": "stdout",
     "output_type": "stream",
     "text": [
      "False\n"
     ]
    }
   ],
   "source": [
    "import subprocess\n",
    "import logging\n",
    "\n",
    "def select_folder():\n",
    "    try:\n",
    "        result = subprocess.run([\"kdialog\", \"--getexistingdirectory\", \"~\"], capture_output=True, text=True)\n",
    "        return result.stdout.strip()  # Rimuove spazi vuoti o newline\n",
    "    except Exception as e:\n",
    "        logging.exception(f\"Error while trying to open the file dialog\")\n",
    "        return {}\n",
    "\n",
    "def confirm_action(folder):\n",
    "    \"\"\"Mostra un messaggio di conferma con il percorso scelto.\"\"\"\n",
    "    result = subprocess.run([\"kdialog\", \"--yesno\", f\"Hai selezionato:\\n{folder}\\nVuoi continuare?\"], capture_output=True)\n",
    "    return result.returncode == 0  # 0 means the user clicked on \"Yes\"\n",
    "\n",
    "\n",
    "if __name__ == \"__main__\":\n",
    "    selected_folder = select_folder()\n",
    "    if selected_folder:\n",
    "        print(confirm_action( selected_folder) )\n",
    "    else:\n",
    "        print(\"Nessuna cartella selezionata.\")\n"
   ]
  },
  {
   "cell_type": "markdown",
   "metadata": {},
   "source": []
  }
 ],
 "metadata": {
  "kernelspec": {
   "display_name": "epub_venv",
   "language": "python",
   "name": "python3"
  },
  "language_info": {
   "codemirror_mode": {
    "name": "ipython",
    "version": 3
   },
   "file_extension": ".py",
   "mimetype": "text/x-python",
   "name": "python",
   "nbconvert_exporter": "python",
   "pygments_lexer": "ipython3",
   "version": "3.12.7"
  }
 },
 "nbformat": 4,
 "nbformat_minor": 2
}
